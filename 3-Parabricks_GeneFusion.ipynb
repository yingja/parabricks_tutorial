{
 "cells": [
  {
   "cell_type": "markdown",
   "id": "18db57d9-6d77-4cce-b8f0-bacdd9b58ade",
   "metadata": {},
   "source": [
    "# Parabricks Hands-On Workshop"
   ]
  },
  {
   "cell_type": "markdown",
   "id": "e1ecc79b-2629-4151-925c-55c953f34852",
   "metadata": {},
   "source": [
    "#### Tutorial 4: Gene Fusion Detection Pipeline"
   ]
  },
  {
   "cell_type": "markdown",
   "id": "ce2d9f58-9a5a-4c8f-abf6-a41bed770150",
   "metadata": {},
   "source": [
    "For gene fusion detection, we will run the following analysis steps:\n",
    "\n",
    "- RNA read alignment (for calling gene fusions from RNA-seq)\n",
    "- Gene fusion detection\n",
    "\n",
    "\\We will start from downloading the reference genome and sample files, and then proceed through the analysis step-by-step."
   ]
  },
  {
   "cell_type": "markdown",
   "id": "81d854c7-c48b-4e62-a843-eadcca5ab261",
   "metadata": {},
   "source": [
    "#### GPU Monitoring"
   ]
  },
  {
   "cell_type": "code",
   "execution_count": 1,
   "id": "d5523e52-751a-4059-9751-f36883738c2f",
   "metadata": {},
   "outputs": [
    {
     "name": "stdout",
     "output_type": "stream",
     "text": [
      "Wed Sep  3 12:34:43 2025       \n",
      "+---------------------------------------------------------------------------------------+\n",
      "| NVIDIA-SMI 535.161.08             Driver Version: 535.161.08   CUDA Version: 12.3     |\n",
      "|-----------------------------------------+----------------------+----------------------+\n",
      "| GPU  Name                 Persistence-M | Bus-Id        Disp.A | Volatile Uncorr. ECC |\n",
      "| Fan  Temp   Perf          Pwr:Usage/Cap |         Memory-Usage | GPU-Util  Compute M. |\n",
      "|                                         |                      |               MIG M. |\n",
      "|=========================================+======================+======================|\n",
      "|   0  Tesla V100-SXM2-32GB           On  | 00000000:1B:00.0 Off |                    0 |\n",
      "| N/A   29C    P0              68W / 300W |  11063MiB / 32768MiB |     20%      Default |\n",
      "|                                         |                      |                  N/A |\n",
      "+-----------------------------------------+----------------------+----------------------+\n",
      "                                                                                         \n",
      "+---------------------------------------------------------------------------------------+\n",
      "| Processes:                                                                            |\n",
      "|  GPU   GI   CI        PID   Type   Process name                            GPU Memory |\n",
      "|        ID   ID                                                             Usage      |\n",
      "|=======================================================================================|\n",
      "+---------------------------------------------------------------------------------------+\n"
     ]
    }
   ],
   "source": [
    "!nvidia-smi"
   ]
  },
  {
   "cell_type": "code",
   "execution_count": null,
   "id": "a0374156-867b-4477-a3bf-1bfcd17fef31",
   "metadata": {},
   "outputs": [],
   "source": [
    "# Run the command below in the terminal\n",
    "### watch -n 0.5 nvidia-smi\n",
    "#"
   ]
  },
  {
   "cell_type": "markdown",
   "id": "2a450b33-9516-4164-88e9-c09226b628a6",
   "metadata": {},
   "source": [
    "#### Download Sample Dataset"
   ]
  },
  {
   "cell_type": "code",
   "execution_count": 2,
   "id": "a19b943a-9091-4b9a-bcc6-b7339e8a981d",
   "metadata": {},
   "outputs": [
    {
     "name": "stdout",
     "output_type": "stream",
     "text": [
      "/home/yingja1227/rna_data\n",
      "--2025-09-03 12:34:53--  https://zenodo.org/records/13363154/files/SRR1217085_1.fastq.gz.20M.fq.gz\n",
      "Resolving zenodo.org (zenodo.org)... "
     ]
    },
    {
     "name": "stderr",
     "output_type": "stream",
     "text": [
      "/usr/local/lib/python3.10/dist-packages/IPython/core/magics/osm.py:417: UserWarning: This is now an optional IPython functionality, setting dhist requires you to install the `pickleshare` library.\n",
      "  self.shell.db['dhist'] = compress_dhist(dhist)[-100:]\n"
     ]
    },
    {
     "name": "stdout",
     "output_type": "stream",
     "text": [
      "188.185.43.25, 188.185.48.194, 188.185.45.92, ...\n",
      "Connecting to zenodo.org (zenodo.org)|188.185.43.25|:443... connected.\n",
      "HTTP request sent, awaiting response... 200 OK\n",
      "Length: 2158029851 (2.0G) [application/octet-stream]\n",
      "Saving to: ‘SRR1217085_1.fastq.gz.20M.fq.gz.1’\n",
      "\n",
      "SRR1217085_1.fastq. 100%[===================>]   2.01G  14.1MB/s    in 2m 36s  \n",
      "\n",
      "2025-09-03 12:37:31 (13.2 MB/s) - ‘SRR1217085_1.fastq.gz.20M.fq.gz.1’ saved [2158029851/2158029851]\n",
      "\n",
      "--2025-09-03 12:37:31--  https://zenodo.org/records/13363154/files/SRR1217085_2.fastq.gz.20M.fq.gz\n",
      "Resolving zenodo.org (zenodo.org)... 188.185.45.92, 188.185.43.25, 188.185.48.194, ...\n",
      "Connecting to zenodo.org (zenodo.org)|188.185.45.92|:443... connected.\n",
      "HTTP request sent, awaiting response... 200 OK\n",
      "Length: 2048873466 (1.9G) [application/octet-stream]\n",
      "Saving to: ‘SRR1217085_2.fastq.gz.20M.fq.gz.1’\n",
      "\n",
      "SRR1217085_2.fastq. 100%[===================>]   1.91G  13.4MB/s    in 2m 28s  \n",
      "\n",
      "2025-09-03 12:40:00 (13.2 MB/s) - ‘SRR1217085_2.fastq.gz.20M.fq.gz.1’ saved [2048873466/2048873466]\n",
      "\n",
      "/home/yingja1227\n"
     ]
    }
   ],
   "source": [
    "## Download STAR-Fusion benchmark dataset prostate cancer cell line VCaP\n",
    "%cd rna_data\n",
    "!wget https://zenodo.org/records/13363154/files/SRR1217085_1.fastq.gz.20M.fq.gz\n",
    "!wget https://zenodo.org/records/13363154/files/SRR1217085_2.fastq.gz.20M.fq.gz\n",
    "%cd .."
   ]
  },
  {
   "cell_type": "markdown",
   "id": "47492662-5293-41d9-8d06-f4cc7e14a91f",
   "metadata": {},
   "source": [
    "Download the Genome Resource Library. This was originally downloaded from here: https://data.broadinstitute.org/Trinity/CTAT_RESOURCE_LIB/"
   ]
  },
  {
   "cell_type": "code",
   "execution_count": 9,
   "id": "71eb84c6-4192-4655-b590-de3540858865",
   "metadata": {},
   "outputs": [
    {
     "name": "stdout",
     "output_type": "stream",
     "text": [
      "--2025-09-03 15:04:16--  https://cos.twcc.ai/pbworkshop/Ref/GRCh38_gencode_v37_CTAT_lib_Mar012021.plug-n-play.tar.gz\n",
      "Resolving cos.twcc.ai (cos.twcc.ai)... 203.145.219.21\n",
      "Connecting to cos.twcc.ai (cos.twcc.ai)|203.145.219.21|:443... connected.\n",
      "HTTP request sent, awaiting response... 200 OK\n",
      "Length: 33494478624 (31G) [binary/octet-stream]\n",
      "Saving to: ‘GRCh38_gencode_v37_CTAT_lib_Mar012021.plug-n-play.tar.gz.1’\n",
      "\n",
      "GRCh38_gencode_v37_ 100%[===================>]  31.19G   116MB/s    in 4m 35s  \n",
      "\n",
      "2025-09-03 15:08:51 (116 MB/s) - ‘GRCh38_gencode_v37_CTAT_lib_Mar012021.plug-n-play.tar.gz.1’ saved [33494478624/33494478624]\n",
      "\n",
      "GRCh38_gencode_v37_CTAT_lib_Mar012021.plug-n-play/ctat_genome_lib_build_dir/\n",
      "GRCh38_gencode_v37_CTAT_lib_Mar012021.plug-n-play/ctat_genome_lib_build_dir/AnnotFilterRule.pm\n",
      "GRCh38_gencode_v37_CTAT_lib_Mar012021.plug-n-play/ctat_genome_lib_build_dir/ref_genome.fa\n",
      "GRCh38_gencode_v37_CTAT_lib_Mar012021.plug-n-play/ctat_genome_lib_build_dir/__chkpts/\n",
      "GRCh38_gencode_v37_CTAT_lib_Mar012021.plug-n-play/ctat_genome_lib_build_dir/__chkpts/ref_annot.gtf.ok\n",
      "GRCh38_gencode_v37_CTAT_lib_Mar012021.plug-n-play/ctat_genome_lib_build_dir/__chkpts/cp_ref_annot_cdna.ok\n",
      "GRCh38_gencode_v37_CTAT_lib_Mar012021.plug-n-play/ctat_genome_lib_build_dir/__chkpts/makeblastdb.ok\n",
      "GRCh38_gencode_v37_CTAT_lib_Mar012021.plug-n-play/ctat_genome_lib_build_dir/__chkpts/blast_pairs.idx.ok\n",
      "GRCh38_gencode_v37_CTAT_lib_Mar012021.plug-n-play/ctat_genome_lib_build_dir/__chkpts/ref_annot.cdsplus.dfam_masked.fa.idx.ok\n",
      "GRCh38_gencode_v37_CTAT_lib_Mar012021.plug-n-play/ctat_genome_lib_build_dir/__chkpts/_prot_info_db.ok\n",
      "GRCh38_gencode_v37_CTAT_lib_Mar012021.plug-n-play/ctat_genome_lib_build_dir/__chkpts/_fusion_annot_lib.idx.ok\n",
      "GRCh38_gencode_v37_CTAT_lib_Mar012021.plug-n-play/ctat_genome_lib_build_dir/__chkpts/fusion_annot_lib.cp.ok\n",
      "GRCh38_gencode_v37_CTAT_lib_Mar012021.plug-n-play/ctat_genome_lib_build_dir/__chkpts/trans.blast.dat.index.ok\n",
      "GRCh38_gencode_v37_CTAT_lib_Mar012021.plug-n-play/ctat_genome_lib_build_dir/__chkpts/index_pfam_hits.ok\n",
      "GRCh38_gencode_v37_CTAT_lib_Mar012021.plug-n-play/ctat_genome_lib_build_dir/__chkpts/cp_pfam_dat.ok\n",
      "GRCh38_gencode_v37_CTAT_lib_Mar012021.plug-n-play/ctat_genome_lib_build_dir/__chkpts/ref_genome.fa.ok\n",
      "GRCh38_gencode_v37_CTAT_lib_Mar012021.plug-n-play/ctat_genome_lib_build_dir/__chkpts/trans.blast.dat.cp.ok\n",
      "GRCh38_gencode_v37_CTAT_lib_Mar012021.plug-n-play/ctat_genome_lib_build_dir/__chkpts/validate_ctat_genome_lib.ok\n",
      "GRCh38_gencode_v37_CTAT_lib_Mar012021.plug-n-play/ctat_genome_lib_build_dir/__chkpts/ref_annot.gtf.gene_spans.ok\n",
      "GRCh38_gencode_v37_CTAT_lib_Mar012021.plug-n-play/ctat_genome_lib_build_dir/__chkpts/index_ref_annot_cdna.ok\n",
      "GRCh38_gencode_v37_CTAT_lib_Mar012021.plug-n-play/ctat_genome_lib_build_dir/__chkpts/ref_annot.cdsplus.dfam_masked.fa.cp.ok\n",
      "GRCh38_gencode_v37_CTAT_lib_Mar012021.plug-n-play/ctat_genome_lib_build_dir/__chkpts/ref_annot.gtf.mini.sortu.ok\n",
      "GRCh38_gencode_v37_CTAT_lib_Mar012021.plug-n-play/ctat_genome_lib_build_dir/__chkpts/ref_genome_fai.ok\n",
      "GRCh38_gencode_v37_CTAT_lib_Mar012021.plug-n-play/ctat_genome_lib_build_dir/__chkpts/cp_gene_blast_pairs.ok\n",
      "GRCh38_gencode_v37_CTAT_lib_Mar012021.plug-n-play/ctat_genome_lib_build_dir/__chkpts/annotfiltrule_cp.ok\n",
      "GRCh38_gencode_v37_CTAT_lib_Mar012021.plug-n-play/ctat_genome_lib_build_dir/pfam_domains.dbm\n",
      "GRCh38_gencode_v37_CTAT_lib_Mar012021.plug-n-play/ctat_genome_lib_build_dir/ref_genome.fa.fai\n",
      "GRCh38_gencode_v37_CTAT_lib_Mar012021.plug-n-play/ctat_genome_lib_build_dir/ref_annot.cdsplus.fa.idx\n",
      "GRCh38_gencode_v37_CTAT_lib_Mar012021.plug-n-play/ctat_genome_lib_build_dir/ref_annot.gtf.mini.sortu\n",
      "GRCh38_gencode_v37_CTAT_lib_Mar012021.plug-n-play/ctat_genome_lib_build_dir/ref_annot.cdna.fa.idx\n",
      "GRCh38_gencode_v37_CTAT_lib_Mar012021.plug-n-play/ctat_genome_lib_build_dir/blast_pairs.idx\n",
      "GRCh38_gencode_v37_CTAT_lib_Mar012021.plug-n-play/ctat_genome_lib_build_dir/ref_annot.gtf.gene_spans\n",
      "GRCh38_gencode_v37_CTAT_lib_Mar012021.plug-n-play/ctat_genome_lib_build_dir/ref_annot.cdna.fa\n",
      "GRCh38_gencode_v37_CTAT_lib_Mar012021.plug-n-play/ctat_genome_lib_build_dir/ref_genome.fa.star.idx/\n",
      "GRCh38_gencode_v37_CTAT_lib_Mar012021.plug-n-play/ctat_genome_lib_build_dir/ref_genome.fa.star.idx/Log.out\n",
      "GRCh38_gencode_v37_CTAT_lib_Mar012021.plug-n-play/ctat_genome_lib_build_dir/ref_genome.fa.star.idx/build.ok\n",
      "GRCh38_gencode_v37_CTAT_lib_Mar012021.plug-n-play/ctat_genome_lib_build_dir/ref_genome.fa.star.idx/sjdbList.fromGTF.out.tab\n",
      "GRCh38_gencode_v37_CTAT_lib_Mar012021.plug-n-play/ctat_genome_lib_build_dir/ref_genome.fa.star.idx/exonGeTrInfo.tab\n",
      "GRCh38_gencode_v37_CTAT_lib_Mar012021.plug-n-play/ctat_genome_lib_build_dir/ref_genome.fa.star.idx/SAindex\n",
      "GRCh38_gencode_v37_CTAT_lib_Mar012021.plug-n-play/ctat_genome_lib_build_dir/ref_genome.fa.star.idx/transcriptInfo.tab\n",
      "GRCh38_gencode_v37_CTAT_lib_Mar012021.plug-n-play/ctat_genome_lib_build_dir/ref_genome.fa.star.idx/geneInfo.tab\n",
      "GRCh38_gencode_v37_CTAT_lib_Mar012021.plug-n-play/ctat_genome_lib_build_dir/ref_genome.fa.star.idx/sjdbInfo.txt\n",
      "GRCh38_gencode_v37_CTAT_lib_Mar012021.plug-n-play/ctat_genome_lib_build_dir/ref_genome.fa.star.idx/SA\n",
      "GRCh38_gencode_v37_CTAT_lib_Mar012021.plug-n-play/ctat_genome_lib_build_dir/ref_genome.fa.star.idx/chrStart.txt\n",
      "GRCh38_gencode_v37_CTAT_lib_Mar012021.plug-n-play/ctat_genome_lib_build_dir/ref_genome.fa.star.idx/chrName.txt\n",
      "GRCh38_gencode_v37_CTAT_lib_Mar012021.plug-n-play/ctat_genome_lib_build_dir/ref_genome.fa.star.idx/chrLength.txt\n",
      "GRCh38_gencode_v37_CTAT_lib_Mar012021.plug-n-play/ctat_genome_lib_build_dir/ref_genome.fa.star.idx/genomeParameters.txt\n",
      "GRCh38_gencode_v37_CTAT_lib_Mar012021.plug-n-play/ctat_genome_lib_build_dir/ref_genome.fa.star.idx/sjdbList.out.tab\n",
      "GRCh38_gencode_v37_CTAT_lib_Mar012021.plug-n-play/ctat_genome_lib_build_dir/ref_genome.fa.star.idx/Genome\n",
      "GRCh38_gencode_v37_CTAT_lib_Mar012021.plug-n-play/ctat_genome_lib_build_dir/ref_genome.fa.star.idx/chrNameLength.txt\n",
      "GRCh38_gencode_v37_CTAT_lib_Mar012021.plug-n-play/ctat_genome_lib_build_dir/ref_genome.fa.star.idx/exonInfo.tab\n",
      "GRCh38_gencode_v37_CTAT_lib_Mar012021.plug-n-play/ctat_genome_lib_build_dir/ref_annot.pep\n",
      "GRCh38_gencode_v37_CTAT_lib_Mar012021.plug-n-play/ctat_genome_lib_build_dir/trans.blast.align_coords.align_coords.dat\n",
      "GRCh38_gencode_v37_CTAT_lib_Mar012021.plug-n-play/ctat_genome_lib_build_dir/ref_annot.cdsplus.fa\n",
      "GRCh38_gencode_v37_CTAT_lib_Mar012021.plug-n-play/ctat_genome_lib_build_dir/trans.blast.align_coords.align_coords.dbm\n",
      "GRCh38_gencode_v37_CTAT_lib_Mar012021.plug-n-play/ctat_genome_lib_build_dir/PFAM.domtblout.dat.gz\n",
      "GRCh38_gencode_v37_CTAT_lib_Mar012021.plug-n-play/ctat_genome_lib_build_dir/ref_annot.gtf\n",
      "GRCh38_gencode_v37_CTAT_lib_Mar012021.plug-n-play/ctat_genome_lib_build_dir/trans.blast.dat.gz\n",
      "GRCh38_gencode_v37_CTAT_lib_Mar012021.plug-n-play/ctat_genome_lib_build_dir/ref_genome.fa.nsq\n",
      "GRCh38_gencode_v37_CTAT_lib_Mar012021.plug-n-play/ctat_genome_lib_build_dir/ref_annot.cds\n",
      "GRCh38_gencode_v37_CTAT_lib_Mar012021.plug-n-play/ctat_genome_lib_build_dir/ref_genome.fa.nhr\n",
      "GRCh38_gencode_v37_CTAT_lib_Mar012021.plug-n-play/ctat_genome_lib_build_dir/blast_pairs.dat.gz\n",
      "GRCh38_gencode_v37_CTAT_lib_Mar012021.plug-n-play/ctat_genome_lib_build_dir/fusion_annot_lib.idx\n",
      "GRCh38_gencode_v37_CTAT_lib_Mar012021.plug-n-play/ctat_genome_lib_build_dir/ref_annot.prot_info.dbm\n",
      "GRCh38_gencode_v37_CTAT_lib_Mar012021.plug-n-play/ctat_genome_lib_build_dir/ref_genome.fa.nin\n",
      "GRCh38_gencode_v37_CTAT_lib_Mar012021.plug-n-play/ctat_genome_lib_build_dir/fusion_annot_lib.gz\n"
     ]
    }
   ],
   "source": [
    "!wget https://cos.twcc.ai/pbworkshop/Ref/GRCh38_gencode_v37_CTAT_lib_Mar012021.plug-n-play.tar.gz\n",
    "!tar --strip-components=1 -xvzf GRCh38_gencode_v37_CTAT_lib_Mar012021.plug-n-play.tar.gz \\\n",
    "    -C Ref"
   ]
  },
  {
   "cell_type": "code",
   "execution_count": 10,
   "id": "358592df-857a-4a80-9709-5d5be6b37809",
   "metadata": {},
   "outputs": [
    {
     "name": "stdout",
     "output_type": "stream",
     "text": [
      "Homo_sapiens_assembly38.dict\n",
      "Homo_sapiens_assembly38.fasta\n",
      "Homo_sapiens_assembly38.fasta.amb\n",
      "Homo_sapiens_assembly38.fasta.ann\n",
      "Homo_sapiens_assembly38.fasta.bwt\n",
      "Homo_sapiens_assembly38.fasta.fai\n",
      "Homo_sapiens_assembly38.fasta.pac\n",
      "Homo_sapiens_assembly38.fasta.sa\n",
      "Homo_sapiens_assembly38.known_indels.vcf.gz\n",
      "Homo_sapiens_assembly38.known_indels.vcf.gz.tbi\n",
      "ctat_genome_lib_build_dir\n",
      "gencode.v48.primary_assembly.annotation.gtf\n",
      "gencode.v48.primary_assembly.annotation.gtf.gz\n",
      "genomelib\n",
      "genomelib.tar.gz\n"
     ]
    }
   ],
   "source": [
    "!ls Ref"
   ]
  },
  {
   "cell_type": "markdown",
   "id": "ffe5ceb5-ffb8-4889-b0eb-0047783c69e4",
   "metadata": {},
   "source": [
    "### Run RNA Alignment for Gene Fusion Detection\n",
    "We will use the Parabricks `rna_fq2bam` to run RNA alignment. This is the same command as the RNA alignment step for gene expression analysis, but different options must be set. \n",
    "- `--min-chim-segment`: Minimum chimeric segment length, longer gives more specificity\n",
    "- `--out-chim-format`: 1 includes commented header and 0 doesn't. This is used in the next step for STARfusion\n",
    "\n",
    "See Tutorial 2 (Balk RNA Sequencing) for how to make the genome library."
   ]
  },
  {
   "cell_type": "code",
   "execution_count": 11,
   "id": "2c7b4006-3622-4829-9eb5-e6ed209c471d",
   "metadata": {
    "collapsed": true,
    "jupyter": {
     "outputs_hidden": true
    },
    "scrolled": true
   },
   "outputs": [
    {
     "name": "stdout",
     "output_type": "stream",
     "text": [
      "Please visit https://docs.nvidia.com/clara/#parabricks for detailed documentation\n",
      "\n",
      "\n",
      "\n",
      "[Parabricks Options Mesg]: Automatically generating ID prefix\n",
      "[Parabricks Options Mesg]: Read group created for /home/yingja1227/rna_data/SRR1217085_1.fastq.gz.20M.fq.gz and\n",
      "/home/yingja1227/rna_data/SRR1217085_2.fastq.gz.20M.fq.gz\n",
      "[Parabricks Options Mesg]: @RG\\tID:C211TACXX.6\\tLB:lib1\\tPL:bar\\tSM:sample\\tPU:C211TACXX.6\n",
      "[PB Info 2025-Sep-03 15:17:29] ------------------------------------------------------------------------------\n",
      "[PB Info 2025-Sep-03 15:17:29] ||                 Parabricks accelerated Genomics Pipeline                 ||\n",
      "[PB Info 2025-Sep-03 15:17:29] ||                              Version 4.4.0-1                             ||\n",
      "[PB Info 2025-Sep-03 15:17:29] ||                                   star                                   ||\n",
      "[PB Info 2025-Sep-03 15:17:29] ------------------------------------------------------------------------------\n",
      "[PB Info 2025-Sep-03 15:17:29]  ..... started STAR run\n",
      "[PB Info 2025-Sep-03 15:17:29]  ..... loading genome\n",
      "[PB Info 2025-Sep-03 15:17:41] read from genomeDir done 11.523\n",
      "[PB Info 2025-Sep-03 15:17:41] Gpu num:1 Cpu thread num: 4\n",
      "[PB Info 2025-Sep-03 15:17:41]  ..... started mapping\n",
      "[PB Info 2025-Sep-03 15:17:47] gpu free memory: 33400684544, total 34079899648\n",
      "\n",
      "[PB Info 2025-Sep-03 15:17:47] cudaSuccess\n",
      "[PB Info 2025-Sep-03 15:17:47] ReadingReads:2200\tWritingReads:0\n",
      "[PB Info 2025-Sep-03 15:17:48] gpu free memory: 27920826368, total 34079899648\n",
      "\n",
      "[PB Info 2025-Sep-03 15:17:48] cudaSuccess\n",
      "[PB Info 2025-Sep-03 15:17:48] gpu free memory: 18957598720, total 34079899648\n",
      "\n",
      "[PB Info 2025-Sep-03 15:17:48] cudaSuccess\n",
      "[PB Info 2025-Sep-03 15:17:48] setGpuConstMem: gpu const memory usage 193 bytes\n",
      "[PB Info 2025-Sep-03 15:17:48] cudaSuccess\n",
      "[PB Info 2025-Sep-03 15:17:53] ReadingReads:185600\tWritingReads:177200\n",
      "[PB Info 2025-Sep-03 15:17:59] ReadingReads:410400\tWritingReads:402000\n",
      "[PB Info 2025-Sep-03 15:18:05] ReadingReads:632600\tWritingReads:623600\n",
      "[PB Info 2025-Sep-03 15:18:11] ReadingReads:842800\tWritingReads:828600\n",
      "[PB Info 2025-Sep-03 15:18:17] ReadingReads:1066800\tWritingReads:1053400\n",
      "[PB Info 2025-Sep-03 15:18:23] ReadingReads:1294200\tWritingReads:1284200\n",
      "[PB Info 2025-Sep-03 15:18:29] ReadingReads:1524600\tWritingReads:1515800\n",
      "[PB Info 2025-Sep-03 15:18:35] ReadingReads:1738800\tWritingReads:1728600\n",
      "[PB Info 2025-Sep-03 15:18:41] ReadingReads:1976600\tWritingReads:1967200\n",
      "[PB Info 2025-Sep-03 15:18:47] ReadingReads:2206800\tWritingReads:2197200\n",
      "[PB Info 2025-Sep-03 15:18:53] ReadingReads:2394600\tWritingReads:2385800\n",
      "[PB Info 2025-Sep-03 15:18:59] ReadingReads:2606600\tWritingReads:2596400\n",
      "[PB Info 2025-Sep-03 15:19:05] ReadingReads:2824600\tWritingReads:2815400\n",
      "[PB Info 2025-Sep-03 15:19:11] ReadingReads:3064800\tWritingReads:3054000\n",
      "[PB Info 2025-Sep-03 15:19:17] ReadingReads:3266600\tWritingReads:3257200\n",
      "[PB Info 2025-Sep-03 15:19:23] ReadingReads:3499600\tWritingReads:3490200\n",
      "[PB Info 2025-Sep-03 15:19:29] ReadingReads:3709000\tWritingReads:3699800\n",
      "[PB Info 2025-Sep-03 15:19:35] ReadingReads:3937000\tWritingReads:3928200\n",
      "[PB Info 2025-Sep-03 15:19:41] ReadingReads:4171600\tWritingReads:4162000\n",
      "[PB Info 2025-Sep-03 15:19:47] ReadingReads:4404800\tWritingReads:4395000\n",
      "[PB Info 2025-Sep-03 15:19:53] ReadingReads:4646600\tWritingReads:4636200\n",
      "[PB Info 2025-Sep-03 15:19:59] ReadingReads:4878800\tWritingReads:4869000\n",
      "[PB Info 2025-Sep-03 15:20:05] ReadingReads:5068400\tWritingReads:5058600\n",
      "[PB Info 2025-Sep-03 15:20:11] ReadingReads:5284400\tWritingReads:5276000\n",
      "[PB Info 2025-Sep-03 15:20:17] ReadingReads:5500200\tWritingReads:5489600\n",
      "[PB Info 2025-Sep-03 15:20:23] ReadingReads:5720600\tWritingReads:5712000\n",
      "[PB Info 2025-Sep-03 15:20:29] ReadingReads:5944600\tWritingReads:5934400\n",
      "[PB Info 2025-Sep-03 15:20:35] ReadingReads:6160600\tWritingReads:6151800\n",
      "[PB Info 2025-Sep-03 15:20:41] ReadingReads:6376600\tWritingReads:6368000\n",
      "[PB Info 2025-Sep-03 15:20:47] ReadingReads:6607000\tWritingReads:6598200\n",
      "[PB Info 2025-Sep-03 15:20:53] ReadingReads:6816800\tWritingReads:6806200\n",
      "[PB Info 2025-Sep-03 15:20:59] ReadingReads:7054600\tWritingReads:7046000\n",
      "[PB Info 2025-Sep-03 15:21:05] ReadingReads:7280600\tWritingReads:7272000\n",
      "[PB Info 2025-Sep-03 15:21:11] ReadingReads:7510600\tWritingReads:7501400\n",
      "[PB Info 2025-Sep-03 15:21:17] ReadingReads:7742600\tWritingReads:7734000\n",
      "[PB Info 2025-Sep-03 15:21:23] ReadingReads:7984600\tWritingReads:7976000\n",
      "[PB Info 2025-Sep-03 15:21:29] ReadingReads:8170800\tWritingReads:8155600\n",
      "[PB Info 2025-Sep-03 15:21:35] ReadingReads:8368600\tWritingReads:8355400\n",
      "[PB Info 2025-Sep-03 15:21:41] ReadingReads:8572600\tWritingReads:8561000\n",
      "[PB Info 2025-Sep-03 15:21:47] ReadingReads:8790800\tWritingReads:8779200\n",
      "[PB Info 2025-Sep-03 15:21:53] ReadingReads:8998400\tWritingReads:8988000\n",
      "[PB Info 2025-Sep-03 15:21:59] ReadingReads:9209000\tWritingReads:9197800\n",
      "[PB Info 2025-Sep-03 15:22:05] ReadingReads:9451200\tWritingReads:9439600\n",
      "[PB Info 2025-Sep-03 15:22:11] ReadingReads:9666600\tWritingReads:9656600\n",
      "[PB Info 2025-Sep-03 15:22:17] ReadingReads:9902200\tWritingReads:9892800\n",
      "[PB Info 2025-Sep-03 15:22:23] ReadingReads:10097000\tWritingReads:10088000\n",
      "[PB Info 2025-Sep-03 15:22:29] ReadingReads:10328600\tWritingReads:10320000\n",
      "[PB Info 2025-Sep-03 15:22:35] ReadingReads:10557000\tWritingReads:10548000\n",
      "[PB Info 2025-Sep-03 15:22:41] ReadingReads:10786600\tWritingReads:10777400\n",
      "[PB Info 2025-Sep-03 15:22:47] ReadingReads:11027800\tWritingReads:11019000\n",
      "[PB Info 2025-Sep-03 15:22:53] ReadingReads:11248600\tWritingReads:11239000\n",
      "[PB Info 2025-Sep-03 15:22:59] ReadingReads:11497000\tWritingReads:11487400\n",
      "[PB Info 2025-Sep-03 15:23:05] ReadingReads:11740800\tWritingReads:11730000\n",
      "[PB Info 2025-Sep-03 15:23:11] ReadingReads:11970600\tWritingReads:11960000\n",
      "[PB Info 2025-Sep-03 15:23:17] ReadingReads:12202600\tWritingReads:12193200\n",
      "[PB Info 2025-Sep-03 15:23:23] ReadingReads:12408600\tWritingReads:12399400\n",
      "[PB Info 2025-Sep-03 15:23:29] ReadingReads:12628600\tWritingReads:12618600\n",
      "[PB Info 2025-Sep-03 15:23:35] ReadingReads:12844600\tWritingReads:12834400\n",
      "[PB Info 2025-Sep-03 15:23:41] ReadingReads:13064600\tWritingReads:13056000\n",
      "[PB Info 2025-Sep-03 15:23:47] ReadingReads:13304600\tWritingReads:13296000\n",
      "[PB Info 2025-Sep-03 15:23:53] ReadingReads:13516800\tWritingReads:13508000\n",
      "[PB Info 2025-Sep-03 15:23:59] ReadingReads:13762800\tWritingReads:13751200\n",
      "[PB Info 2025-Sep-03 15:24:05] ReadingReads:13978800\tWritingReads:13970000\n",
      "[PB Info 2025-Sep-03 15:24:11] ReadingReads:14201000\tWritingReads:14190200\n",
      "[PB Info 2025-Sep-03 15:24:17] ReadingReads:14422600\tWritingReads:14412000\n",
      "[PB Info 2025-Sep-03 15:24:23] ReadingReads:14646800\tWritingReads:14637000\n",
      "[PB Info 2025-Sep-03 15:24:29] ReadingReads:14872600\tWritingReads:14863800\n",
      "[PB Info 2025-Sep-03 15:24:35] ReadingReads:15092800\tWritingReads:15084000\n",
      "[PB Info 2025-Sep-03 15:24:41] ReadingReads:15300800\tWritingReads:15289600\n",
      "[PB Info 2025-Sep-03 15:24:47] ReadingReads:15516800\tWritingReads:15506200\n",
      "[PB Info 2025-Sep-03 15:24:53] ReadingReads:15730600\tWritingReads:15720600\n",
      "[PB Info 2025-Sep-03 15:24:59] ReadingReads:15940800\tWritingReads:15930800\n",
      "[PB Info 2025-Sep-03 15:25:05] ReadingReads:16162600\tWritingReads:16152400\n",
      "[PB Info 2025-Sep-03 15:25:11] ReadingReads:16360400\tWritingReads:16352000\n",
      "[PB Info 2025-Sep-03 15:25:17] ReadingReads:16602600\tWritingReads:16594000\n",
      "[PB Info 2025-Sep-03 15:25:23] ReadingReads:16830800\tWritingReads:16822000\n",
      "[PB Info 2025-Sep-03 15:25:29] ReadingReads:17058800\tWritingReads:17050000\n",
      "[PB Info 2025-Sep-03 15:25:35] ReadingReads:17284600\tWritingReads:17275800\n",
      "[PB Info 2025-Sep-03 15:25:41] ReadingReads:17518800\tWritingReads:17508800\n",
      "[PB Info 2025-Sep-03 15:25:47] ReadingReads:17740600\tWritingReads:17728800\n",
      "[PB Info 2025-Sep-03 15:25:53] ReadingReads:17962600\tWritingReads:17953400\n",
      "[PB Info 2025-Sep-03 15:25:59] ReadingReads:18196600\tWritingReads:18184400\n",
      "[PB Info 2025-Sep-03 15:26:05] ReadingReads:18416600\tWritingReads:18407200\n",
      "[PB Info 2025-Sep-03 15:26:11] ReadingReads:18650600\tWritingReads:18641400\n",
      "[PB Info 2025-Sep-03 15:26:17] ReadingReads:18862400\tWritingReads:18853200\n",
      "[PB Info 2025-Sep-03 15:26:23] ReadingReads:19077800\tWritingReads:19066600\n",
      "[PB Info 2025-Sep-03 15:26:29] ReadingReads:19296600\tWritingReads:19285400\n",
      "[PB Info 2025-Sep-03 15:26:35] ReadingReads:19500600\tWritingReads:19491200\n",
      "[PB Info 2025-Sep-03 15:26:41] ReadingReads:19726600\tWritingReads:19717000\n",
      "[PB Info 2025-Sep-03 15:26:47] ReadingReads:19922800\tWritingReads:19914000\n",
      "[PB Info 2025-Sep-03 15:26:49] reader done\n",
      "[PB Info 2025-Sep-03 15:26:49] Stage 0 gpu thread done\n",
      "[PB Info 2025-Sep-03 15:26:49] Stage 0 cpu threads done\n",
      "[PB Info 2025-Sep-03 15:26:50] Stage 0 clearAllQueue done\n",
      "[PB Info 2025-Sep-03 15:26:50] all workers joined\n",
      "[PB Info 2025-Sep-03 15:26:50] reader done\n",
      "[PB Info 2025-Sep-03 15:26:50]  ..... finished mapping\n",
      "[PB Info 2025-Sep-03 15:26:51] All processing done, time 549.744\n",
      "[PB Info 2025-Sep-03 15:27:08]  ..... finished successfully\n",
      "[PB Info 2025-Sep-03 15:27:08] All done, total running time is 578.789\n",
      "[PB Info 2025-Sep-03 15:27:08] Memory free\n",
      "[PB Info 2025-Sep-03 15:27:08] ------------------------------------------------------------------------------\n",
      "[PB Info 2025-Sep-03 15:27:08] ||        Program:                                              star        ||\n",
      "[PB Info 2025-Sep-03 15:27:08] ||        Version:                                           4.4.0-1        ||\n",
      "[PB Info 2025-Sep-03 15:27:08] ||        Start Time:                       Wed Sep  3 15:17:29 2025        ||\n",
      "[PB Info 2025-Sep-03 15:27:08] ||        End Time:                         Wed Sep  3 15:27:08 2025        ||\n",
      "[PB Info 2025-Sep-03 15:27:08] ||        Total Time:                           9 minutes 39 seconds        ||\n",
      "[PB Info 2025-Sep-03 15:27:08] ------------------------------------------------------------------------------\n",
      "[PB Info 2025-Sep-03 15:27:09] ------------------------------------------------------------------------------\n",
      "[PB Info 2025-Sep-03 15:27:09] ||                 Parabricks accelerated Genomics Pipeline                 ||\n",
      "[PB Info 2025-Sep-03 15:27:09] ||                              Version 4.4.0-1                             ||\n",
      "[PB Info 2025-Sep-03 15:27:09] ||                             Sorting Phase-II                             ||\n",
      "[PB Info 2025-Sep-03 15:27:09] ------------------------------------------------------------------------------\n",
      "[PB Info 2025-Sep-03 15:27:09] progressMeter - Percentage\n",
      "[PB Info 2025-Sep-03 15:27:09] 0.0\n",
      "[PB Info 2025-Sep-03 15:27:14] 59.1\n",
      "[PB Info 2025-Sep-03 15:27:19] 95.2\n",
      "[PB Info 2025-Sep-03 15:27:24] 99.6\n",
      "[PB Info 2025-Sep-03 15:27:29] 99.6\n",
      "[PB Info 2025-Sep-03 15:27:34] 99.7\n",
      "[PB Info 2025-Sep-03 15:27:39] Sorting and Marking: 30.001 seconds\n",
      "[PB Info 2025-Sep-03 15:27:39] ------------------------------------------------------------------------------\n",
      "[PB Info 2025-Sep-03 15:27:39] ||        Program:                                  Sorting Phase-II        ||\n",
      "[PB Info 2025-Sep-03 15:27:39] ||        Version:                                           4.4.0-1        ||\n",
      "[PB Info 2025-Sep-03 15:27:39] ||        Start Time:                       Wed Sep  3 15:27:09 2025        ||\n",
      "[PB Info 2025-Sep-03 15:27:39] ||        End Time:                         Wed Sep  3 15:27:39 2025        ||\n",
      "[PB Info 2025-Sep-03 15:27:39] ||        Total Time:                                     30 seconds        ||\n",
      "[PB Info 2025-Sep-03 15:27:39] ------------------------------------------------------------------------------\n",
      "[PB Info 2025-Sep-03 15:27:39] ------------------------------------------------------------------------------\n",
      "[PB Info 2025-Sep-03 15:27:39] ||                 Parabricks accelerated Genomics Pipeline                 ||\n",
      "[PB Info 2025-Sep-03 15:27:39] ||                              Version 4.4.0-1                             ||\n",
      "[PB Info 2025-Sep-03 15:27:39] ||                         Marking Duplicates, BQSR                         ||\n",
      "[PB Info 2025-Sep-03 15:27:39] ------------------------------------------------------------------------------\n",
      "[PB Info 2025-Sep-03 15:27:39] Using PBBinBamFile for BAM writing\n",
      "[PB Info 2025-Sep-03 15:27:39] progressMeter -\tPercentage\n",
      "[PB Info 2025-Sep-03 15:27:49] 14.7\n",
      "[PB Info 2025-Sep-03 15:27:59] 34.0\n",
      "[PB Info 2025-Sep-03 15:28:09] 57.7\n",
      "[PB Info 2025-Sep-03 15:28:19] 78.6\n",
      "[PB Info 2025-Sep-03 15:28:29] 85.1\n",
      "[PB Info 2025-Sep-03 15:28:39] 94.5\n",
      "[PB Info 2025-Sep-03 15:28:49] 100.0\n",
      "[PB Info 2025-Sep-03 15:28:49] BQSR and writing final BAM:  70.056 seconds\n",
      "[PB Info 2025-Sep-03 15:28:49] ------------------------------------------------------------------------------\n",
      "[PB Info 2025-Sep-03 15:28:49] ||        Program:                          Marking Duplicates, BQSR        ||\n",
      "[PB Info 2025-Sep-03 15:28:49] ||        Version:                                           4.4.0-1        ||\n",
      "[PB Info 2025-Sep-03 15:28:49] ||        Start Time:                       Wed Sep  3 15:27:39 2025        ||\n",
      "[PB Info 2025-Sep-03 15:28:49] ||        End Time:                         Wed Sep  3 15:28:49 2025        ||\n",
      "[PB Info 2025-Sep-03 15:28:49] ||        Total Time:                            1 minute 10 seconds        ||\n",
      "[PB Info 2025-Sep-03 15:28:49] ------------------------------------------------------------------------------\n"
     ]
    }
   ],
   "source": [
    "!pbrun rna_fq2bam \\\n",
    "    --genome-lib-dir Ref/genomelib \\\n",
    "    --ref Ref/Homo_sapiens_assembly38.fasta \\\n",
    "    --in-fq rna_data/SRR1217085_1.fastq.gz.20M.fq.gz rna_data/SRR1217085_2.fastq.gz.20M.fq.gz\\\n",
    "    --out-bam rna_output/rna_fq2bam.bam \\\n",
    "    --output-dir rna_output \\\n",
    "    --read-files-command zcat \\\n",
    "    --low-memory \\\n",
    "    --tmp-dir tmp \\\n",
    "    --min-chim-segment 12 \\\n",
    "    --out-chim-format 1 # 1 to include commented headers for Chimeric.out.junction file"
   ]
  },
  {
   "cell_type": "markdown",
   "id": "cf4a4d30-d57d-4332-89ec-68294882da14",
   "metadata": {},
   "source": [
    "#### Run Gene Fusion Detection"
   ]
  },
  {
   "cell_type": "code",
   "execution_count": 19,
   "id": "78676329-51d7-46dd-8df4-c2e95b3d7ad6",
   "metadata": {
    "scrolled": true
   },
   "outputs": [
    {
     "name": "stdout",
     "output_type": "stream",
     "text": [
      "Please visit https://docs.nvidia.com/clara/#parabricks for detailed documentation\n",
      "\n",
      "[PB Info 2025-Sep-03 15:54:58] ------------------------------------------------------------------------------\n",
      "[PB Info 2025-Sep-03 15:54:58] ||                 Parabricks accelerated Genomics Pipeline                 ||\n",
      "[PB Info 2025-Sep-03 15:54:58] ||                              Version 4.4.0-1                             ||\n",
      "[PB Info 2025-Sep-03 15:54:58] ||                                starfusion                                ||\n",
      "[PB Info 2025-Sep-03 15:54:58] ------------------------------------------------------------------------------\n",
      "[PB Info 2025-Sep-03 15:54:58] Running starfusion...\n",
      "[PB Info 2025-Sep-03 15:54:58] Reading \"ref_annot.gtf.gene_spans\"...\n",
      "[PB Info 2025-Sep-03 15:54:58] Reading \"blast_pairs.idx\"...\n",
      "[PB Info 2025-Sep-03 15:54:58] Reading \"trans.blast.align_coords.align_coords.dat\"...\n",
      "[PB Info 2025-Sep-03 15:54:58] Reading \"fusion_annot_lib.idx\"...\n",
      "[PB Info 2025-Sep-03 15:54:58] Reading reference file...\n",
      "[PB Info 2025-Sep-03 15:54:58] Running map_chimeric_reads_to_genes...\n",
      "[PB Info 2025-Sep-03 15:54:58] Building interval tree...\n",
      "[PB Info 2025-Sep-03 15:55:01] Mapping chimeric reads to genes...\n",
      "[PB Info 2025-Sep-03 15:55:57] Running handle_multimapping_reads...\n",
      "[PB Info 2025-Sep-03 15:56:06] Running predict...\n",
      "[PB Info 2025-Sep-03 15:56:06] Running filter...\n",
      "[PB Info 2025-Sep-03 15:56:06] Running blast_filter...\n",
      "[PB Info 2025-Sep-03 15:56:06] Running promiscuity_filter...\n",
      "[PB Info 2025-Sep-03 15:56:06] Running incorporate_FFPM_into_final_report...\n",
      "[PB Info 2025-Sep-03 15:56:06] Running append_breakpoint_junction_info...\n",
      "[PB Info 2025-Sep-03 15:58:16] Running annotate_fusions...\n",
      "[PB Info 2025-Sep-03 15:58:20] Running filter_by_annotation_rules...\n",
      "[PB Info 2025-Sep-03 15:58:20] Running filter_likely_RT_artifacts...\n",
      "[PB Info 2025-Sep-03 15:58:20] [\"chimerdb_pubmed\",\"CCLE_StarF2019\",\"INTRACHROMOSOMAL[chr2:135.24Mb]\"]\n",
      "[PB Info 2025-Sep-03 15:58:20] [\"CCLE_StarF2019\",\"INTERCHROMOSOMAL[chr10--chr14]\"]\n",
      "[PB Info 2025-Sep-03 15:58:20] [\"chimerdb_pubmed\",\"CCLE_StarF2019\",\"INTRACHROMOSOMAL[chr2:1.25Mb]\"]\n",
      "[PB Info 2025-Sep-03 15:58:20] [\"chimerdb_pubmed\",\"ChimerSeq\",\"CCLE_StarF2019\",\"INTRACHROMOSOMAL[chr9:9.25Mb]\"]\n",
      "[PB Info 2025-Sep-03 15:58:20] [\"CCLE_StarF2019\",\"INTERCHROMOSOMAL[chr19--chrX]\"]\n",
      "[PB Info 2025-Sep-03 15:58:20] [\"INTRACHROMOSOMAL[chr5:61.08Mb]\"]\n",
      "[PB Info 2025-Sep-03 15:58:20] [\"CCLE_StarF2019\",\"INTRACHROMOSOMAL[chr16:0.51Mb]\"]\n",
      "[PB Info 2025-Sep-03 15:58:20] [\"ChimerKB\",\"Larsson_TCGA\",\"ChimerSeq\",\"TCGA_StarF2019\",\"CCLE_StarF2019\",\"YOSHIHARA_TCGA\",\"chimerdb_pubmed\",\"DEEPEST2019\",\"GUO2018CR_TCGA\",\"ChimerPub\",\"TumorFusionsNAR2018\",\"Cosmic\",\"INTRACHROMOSOMAL[chr21:2.80Mb]\"]\n",
      "[PB Info 2025-Sep-03 15:58:20] [\"INTERCHROMOSOMAL[chr6--chr11]\"]\n",
      "[PB Info 2025-Sep-03 15:58:20] [\"CCLE_StarF2019\",\"INTERCHROMOSOMAL[chr8--chr1]\"]\n",
      "[PB Info 2025-Sep-03 15:58:20] [\"CCLE_StarF2019\",\"INTRACHROMOSOMAL[chr5:113.45Mb]\"]\n",
      "[PB Info 2025-Sep-03 15:58:20] [\"CCLE_StarF2019\",\"INTRACHROMOSOMAL[chr5:33.10Mb]\"]\n",
      "[PB Info 2025-Sep-03 15:58:20] [\"CCLE_StarF2019\",\"INTRACHROMOSOMAL[chr5:33.10Mb]\"]\n",
      "[PB Info 2025-Sep-03 15:58:20] [\"ChimerKB\",\"Larsson_TCGA\",\"ChimerSeq\",\"TCGA_StarF2019\",\"CCLE_StarF2019\",\"YOSHIHARA_TCGA\",\"chimerdb_pubmed\",\"DEEPEST2019\",\"GUO2018CR_TCGA\",\"ChimerPub\",\"TumorFusionsNAR2018\",\"Cosmic\",\"INTRACHROMOSOMAL[chr21:2.80Mb]\"]\n",
      "[PB Info 2025-Sep-03 15:58:20] [\"ChimerSeq\",\"CCLE_StarF2019\",\"INTRACHROMOSOMAL[chr16:0.19Mb]\"]\n",
      "[PB Info 2025-Sep-03 15:58:20] [\"INTRACHROMOSOMAL[chr1:0.33Mb]\"]\n",
      "[PB Info 2025-Sep-03 15:58:20] [\"CCLE_StarF2019\",\"INTRACHROMOSOMAL[chr19:8.44Mb]\"]\n",
      "[PB Info 2025-Sep-03 15:58:20] [\"CCLE_StarF2019\",\"INTERCHROMOSOMAL[chr21--chr17]\"]\n",
      "[PB Info 2025-Sep-03 15:58:20] -filter_likely_RT_artifacts: (pass: 17, filtered: 1)\n",
      "[PB Info 2025-Sep-03 15:58:20] Running remove_lesser_candidates_at_breakpoint...\n",
      "[PB Info 2025-Sep-03 15:58:20]   -filter_lesser_candidates_at_breakpoint: (pass: 17, filtered: 0)\n",
      "[PB Info 2025-Sep-03 15:58:20] Running filter_by_min_FFPM...\n",
      "[PB Info 2025-Sep-03 15:58:20] \n",
      "Final output is /home/yingja1227/rna_output/fusion_output/fusion_predictions.tsv (or /home/yingja1227/rna_output/fusion_output/fusion_predictions.abridged.tsv)\n",
      "[PB Info 2025-Sep-03 15:58:20] starfusion finished in 202.108 seconds\n",
      "[PB Info 2025-Sep-03 15:58:20] ------------------------------------------------------------------------------\n",
      "[PB Info 2025-Sep-03 15:58:20] ||        Program:                                        starfusion        ||\n",
      "[PB Info 2025-Sep-03 15:58:20] ||        Version:                                           4.4.0-1        ||\n",
      "[PB Info 2025-Sep-03 15:58:20] ||        Start Time:                       Wed Sep  3 15:54:58 2025        ||\n",
      "[PB Info 2025-Sep-03 15:58:20] ||        End Time:                         Wed Sep  3 15:58:20 2025        ||\n",
      "[PB Info 2025-Sep-03 15:58:20] ||        Total Time:                           3 minutes 22 seconds        ||\n",
      "[PB Info 2025-Sep-03 15:58:20] ------------------------------------------------------------------------------\n"
     ]
    }
   ],
   "source": [
    "!pbrun starfusion \\\n",
    "    --output-dir rna_output/fusion_output \\\n",
    "    --genome-lib-dir Ref/ctat_genome_lib_build_dir \\\n",
    "    --chimeric-junction rna_output/Chimeric.out.junction \\\n",
    "    --tmp-dir tmp"
   ]
  },
  {
   "cell_type": "code",
   "execution_count": 20,
   "id": "2aa523d7-a31a-44c9-bcd0-5664f657ad5e",
   "metadata": {
    "scrolled": true
   },
   "outputs": [
    {
     "name": "stdout",
     "output_type": "stream",
     "text": [
      "filter.intermediates_dir\n",
      "fusion_candidates.preliminary\n",
      "fusion_candidates.preliminary.filtered\n",
      "fusion_candidates.preliminary.filtered.FFPM\n",
      "fusion_candidates.preliminary.wSpliceInfo\n",
      "fusion_candidates.preliminary.wSpliceInfo.wAnnot\n",
      "fusion_candidates.preliminary.wSpliceInfo.wAnnot.annot_filter.fail\n",
      "fusion_candidates.preliminary.wSpliceInfo.wAnnot.annot_filter.pass\n",
      "fusion_candidates.preliminary.wSpliceInfo.wAnnot.annot_filter.pass.RTartifact.filtered\n",
      "fusion_candidates.preliminary.wSpliceInfo.wAnnot.annot_filter.pass.RTartifact.pass\n",
      "fusion_candidates.preliminary.wSpliceInfo.wAnnot.annot_filter.pass.RTartifact.pass.brkptselect.filtered\n",
      "fusion_candidates.preliminary.wSpliceInfo.wAnnot.annot_filter.pass.RTartifact.pass.brkptselect.pass\n",
      "fusion_candidates.preliminary.wSpliceInfo.wAnnot.annot_filter.pass.RTartifact.pass.brkptselect.pass.minFFPM.0.1.pass\n",
      "fusion_predictions.abridged.tsv\n",
      "fusion_predictions.tsv\n",
      "junction_breakpts_to_genes.txt\n",
      "junction_breakpts_to_genes.txt.fail\n",
      "junction_breakpts_to_genes.txt.pass\n",
      "junction_read_names\n",
      "spanning_frag_names\n"
     ]
    }
   ],
   "source": [
    "!ls rna_output/fusion_output"
   ]
  },
  {
   "cell_type": "code",
   "execution_count": null,
   "id": "10f6993c-0578-4aff-a4df-9396c2937a6d",
   "metadata": {},
   "outputs": [],
   "source": []
  }
 ],
 "metadata": {
  "kernelspec": {
   "display_name": "Python 3 (ipykernel)",
   "language": "python",
   "name": "python3"
  },
  "language_info": {
   "codemirror_mode": {
    "name": "ipython",
    "version": 3
   },
   "file_extension": ".py",
   "mimetype": "text/x-python",
   "name": "python",
   "nbconvert_exporter": "python",
   "pygments_lexer": "ipython3",
   "version": "3.10.12"
  }
 },
 "nbformat": 4,
 "nbformat_minor": 5
}
